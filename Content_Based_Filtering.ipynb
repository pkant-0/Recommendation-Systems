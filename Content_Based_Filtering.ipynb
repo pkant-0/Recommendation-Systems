{
  "nbformat": 4,
  "nbformat_minor": 0,
  "metadata": {
    "colab": {
      "provenance": [],
      "authorship_tag": "ABX9TyM8n91pFTIa/UgN3OIMlVM+",
      "include_colab_link": true
    },
    "kernelspec": {
      "name": "python3",
      "display_name": "Python 3"
    },
    "language_info": {
      "name": "python"
    }
  },
  "cells": [
    {
      "cell_type": "markdown",
      "metadata": {
        "id": "view-in-github",
        "colab_type": "text"
      },
      "source": [
        "<a href=\"https://colab.research.google.com/github/pkant-0/Recommendation-Systems/blob/main/Content_Based_Filtering.ipynb\" target=\"_parent\"><img src=\"https://colab.research.google.com/assets/colab-badge.svg\" alt=\"Open In Colab\"/></a>"
      ]
    },
    {
      "cell_type": "markdown",
      "source": [
        "# **Scenario**\n",
        "\n",
        "A pharma company wants to recommend medicines to pharmacies based on their purchase history. The goal is to recommend medicines similar to the ones already purchased.\n",
        "\n",
        "## **Step 1: Define the problem**\n",
        "\n",
        "### Input: Dataset containing details of medicines and purchase history.\n",
        "\n",
        "### Output: Recommendations for medicines that are similar to those purchased.\n",
        "\n",
        "### Approach: Use Content-Based Filtering to recommend medicines based on their attributes.\n",
        "\n",
        "## **Step 2: Dataset Preparation**\n",
        "Synthetic Dataset\n",
        "\n",
        "    Medicine Attributes Dataset:\n",
        "        Medicine ID, Name, Ingredients, Category, Manufacturer, Price.\n",
        "\n",
        "Medicine_ID\tName\tIngredients\tCategory\tManufacturer\tPrice\n",
        "101\tParacetamol\tParacetamol, Caffeine\tPain Relief\tPharmaCorp\t50.00\n",
        "102\tIbuprofen\tIbuprofen\tPain Relief\tMedicoLtd\t75.00\n",
        "103\tCetirizine\tCetirizine\tAllergy\tPharmaCorp\t40.00\n",
        "104\tAmoxicillin\tAmoxicillin\tAntibiotic\tMedicoLtd\t90.00\n",
        "\n",
        "##    Purchase History Dataset:\n",
        "        Pharmacy ID, Medicine IDs purchased.\n",
        "\n",
        "Pharmacy_ID\tPurchased_Medicines\n",
        "P1\t[101, 102]\n",
        "P2\t[103, 104]\n",
        "\n",
        "\n",
        "Step 3: Preprocessing\n",
        "Actions:\n",
        "\n",
        "    Tokenize Text Features:\n",
        "        Convert text features like Ingredients and Category into numerical formats.\n",
        "\n",
        "    Create Medicine Profiles:\n",
        "        Combine all attributes of each medicine into a single text field."
      ],
      "metadata": {
        "id": "ffO0CqdMgC1s"
      }
    },
    {
      "cell_type": "code",
      "execution_count": 3,
      "metadata": {
        "id": "dRFXvHp-f_6G"
      },
      "outputs": [],
      "source": [
        "import pandas as pd\n",
        "from sklearn.feature_extraction.text import TfidfVectorizer\n",
        "from sklearn.metrics.pairwise import cosine_similarity\n",
        "\n",
        "# Medicine Attributes\n",
        "\n",
        "medicine_data = pd.DataFrame({\n",
        "    'Medicine_ID': [101, 102, 103, 104],\n",
        "    'Name': ['Paracetamol', 'Ibuprofen', 'Cetirizine', 'Amoxicillin'],\n",
        "    'Ingredients': ['Paracetamol, Caffeine', 'Ibuprofen', 'Cetirizine', 'Amoxicillin'],\n",
        "    'Category': ['Pain Relief', 'Pain Relief', 'Allergy', 'Antibiotic'],\n",
        "    'Manufacturer': ['PharmaCorp', 'MedicoLtd', 'PharmaCorp', 'MedicoLtd'],\n",
        "    'Price': [50.00, 75.00, 40.00, 90.00]\n",
        "})\n",
        "\n",
        "# Combine Features into a single Field\n",
        "medicine_data['Profile'] = (\n",
        "    medicine_data['Ingredients'] + \" \" +\n",
        "    medicine_data['Category'] + \" \" +\n",
        "    medicine_data['Manufacturer'])\n"
      ]
    },
    {
      "cell_type": "code",
      "source": [
        "# View profiles\n",
        "print(medicine_data[['Medicine_ID', 'Profile']])"
      ],
      "metadata": {
        "colab": {
          "base_uri": "https://localhost:8080/"
        },
        "id": "SeGFJwRrh3jF",
        "outputId": "6b974cdc-2087-4bf6-96ca-1e528d46d33b"
      },
      "execution_count": 5,
      "outputs": [
        {
          "output_type": "stream",
          "name": "stdout",
          "text": [
            "   Medicine_ID                                       Profile\n",
            "0          101  Paracetamol, Caffeine Pain Relief PharmaCorp\n",
            "1          102               Ibuprofen Pain Relief MedicoLtd\n",
            "2          103                 Cetirizine Allergy PharmaCorp\n",
            "3          104              Amoxicillin Antibiotic MedicoLtd\n"
          ]
        }
      ]
    },
    {
      "cell_type": "markdown",
      "source": [
        "# Step 4: Compute Similarities\n",
        "TF-IDF Vectorization:\n",
        "\n",
        "Convert the Profile field into numerical vectors using TF-IDF."
      ],
      "metadata": {
        "id": "nyHn_Il_jkDA"
      }
    },
    {
      "cell_type": "code",
      "source": [
        "# Vectorize Medicine Profiles\n",
        "\n",
        "tfidf = TfidfVectorizer(stop_words='english')\n",
        "tfidf_matrix = tfidf.fit_transform(medicine_data['Profile'])\n",
        "\n",
        "# Compute Cosine Similarity\n",
        "cosine_sim = cosine_similarity(tfidf_matrix, tfidf_matrix)\n",
        "\n",
        "# Convert to DataFrame\n",
        "\n",
        "cosine_sim_df = pd.DataFrame(cosine_sim, index=medicine_data['Medicine_ID'], columns=medicine_data['Medicine_ID'])"
      ],
      "metadata": {
        "id": "e8q-4pn_jV4g"
      },
      "execution_count": 7,
      "outputs": []
    },
    {
      "cell_type": "markdown",
      "source": [
        "# **Recomendation Fuction**\n",
        "\n",
        "## Logic:\n",
        "1. Find medicines most similar to the ones purchased by a pharmacy.\n",
        "2. Rank them by similarity scores."
      ],
      "metadata": {
        "id": "fTHx5i8Ek1KF"
      }
    },
    {
      "cell_type": "code",
      "source": [
        "def recommend_medicines(pharmacy_id, purchase_history, medicine_data, similarity_matrix, top_n=3):\n",
        "# Get purchased medicines\n",
        "  purchased = purchase_history.loc[purchase_history['Pharmacy_ID'] == pharmacy_id, 'Purchased_Medicines'].values[0]\n",
        "\n",
        "# Calculate similarity scores for all medicines\n",
        "\n",
        "  scores = similarity_matrix.loc[purchased].sum(axis=0)\n",
        "\n",
        "# Exclude alredy purchased medicines\n",
        "  scores = scores.drop(index=purchased)\n",
        "\n",
        "# Get top N recommendations\n",
        "  recommendations = scores.sort_values(ascending=False).head(top_n).index\n",
        "  return medicine_data[medicine_data['Medicine_ID'].isin(recommendations)]\n",
        "\n",
        "# Purchase History\n",
        "purchase_history = pd.DataFrame({\n",
        "    'Pharmacy_ID': ['P1', 'P2'],\n",
        "    'Purchased_Medicines': [[101, 102], [103, 104]]\n",
        "})\n",
        "\n",
        "# Recommend for Pharmacy P1\n",
        "recommendations = recommend_medicines('P1', purchase_history, medicine_data, cosine_sim_df)\n",
        "print(recommendations[['Medicine_ID', 'Name']])"
      ],
      "metadata": {
        "colab": {
          "base_uri": "https://localhost:8080/"
        },
        "id": "rAIAZ8t9kqA3",
        "outputId": "d7d89399-52c1-41e3-9c32-24a6d96f27a1"
      },
      "execution_count": 17,
      "outputs": [
        {
          "output_type": "stream",
          "name": "stdout",
          "text": [
            "   Medicine_ID         Name\n",
            "2          103   Cetirizine\n",
            "3          104  Amoxicillin\n"
          ]
        }
      ]
    },
    {
      "cell_type": "code",
      "source": [],
      "metadata": {
        "id": "LJP5DLF7oBCx"
      },
      "execution_count": null,
      "outputs": []
    },
    {
      "cell_type": "markdown",
      "source": [
        "# **Model Integration**"
      ],
      "metadata": {
        "id": "Ar2_e998poZQ"
      }
    },
    {
      "cell_type": "code",
      "source": [
        "from flask import Flask, request, jsonify\n",
        "import pandas as pd\n",
        "from sklearn.feature_extraction.text import TfidfVectorizer\n",
        "from sklearn.metrics.pairwise import cosine_similarity\n",
        "\n",
        "app = Flask(__name__)\n",
        "\n",
        "# Sample Medicine Dataset\n",
        "medicine_data = pd.DataFrame({\n",
        "    'Medicine_ID': [101, 102, 103, 104],\n",
        "    'Name': ['Paracetamol', 'Ibuprofen', 'Cetirizine', 'Amoxicillin'],\n",
        "    'Ingredients': ['Paracetamol, Caffeine', 'Ibuprofen', 'Cetirizine', 'Amoxicillin'],\n",
        "    'Category': ['Pain Relief', 'Pain Relief', 'Allergy', 'Antibiotic'],\n",
        "    'Manufacturer': ['PharmaCorp', 'MedicoLtd', 'PharmaCorp', 'MedicoLtd'],\n",
        "    'Price': [50.00, 75.00, 40.00, 90.00]\n",
        "})\n",
        "\n",
        "# Create a Combined Profile\n",
        "medicine_data['Profile'] = (\n",
        "    medicine_data['Ingredients'] + \" \" +\n",
        "    medicine_data['Category'] + \" \" +\n",
        "    medicine_data['Manufacturer']\n",
        ")\n",
        "\n",
        "# Vectorize Profiles\n",
        "tfidf = TfidfVectorizer(stop_words='english')\n",
        "tfidf_matrix = tfidf.fit_transform(medicine_data['Profile'])\n",
        "\n",
        "# Compute Similarity Matrix\n",
        "cosine_sim = cosine_similarity(tfidf_matrix, tfidf_matrix)\n",
        "cosine_sim_df = pd.DataFrame(cosine_sim, index=medicine_data['Medicine_ID'], columns=medicine_data['Medicine_ID'])\n",
        "\n",
        "# Recommendation Function\n",
        "def recommend_medicines(purchased, top_n=3):\n",
        "    scores = cosine_sim_df.loc[purchased].sum(axis=0)\n",
        "    scores = scores.drop(index=purchased)  # Exclude already purchased medicines\n",
        "    recommendations = scores.sort_values(ascending=False).head(top_n).index\n",
        "    return medicine_data[medicine_data['Medicine_ID'].isin(recommendations)][['Medicine_ID', 'Name']].to_dict(orient='records')\n",
        "\n",
        "# API Route\n",
        "@app.route('/recommend', methods=['POST'])\n",
        "def recommend():\n",
        "    data = request.get_json()\n",
        "    pharmacy_id = data.get('pharmacy_id')\n",
        "    purchased = data.get('purchased')\n",
        "    recommendations = recommend_medicines(purchased)\n",
        "    return jsonify({'pharmacy_id': pharmacy_id, 'recommendations': recommendations})\n",
        "\n",
        "if __name__ == '__main__':\n",
        "    app.run(debug=True)\n"
      ],
      "metadata": {
        "colab": {
          "base_uri": "https://localhost:8080/"
        },
        "id": "QlXPMREupjhu",
        "outputId": "8592846b-a8a7-483c-9177-4354dc0634b9"
      },
      "execution_count": 18,
      "outputs": [
        {
          "output_type": "stream",
          "name": "stdout",
          "text": [
            " * Serving Flask app '__main__'\n",
            " * Debug mode: on\n"
          ]
        },
        {
          "output_type": "stream",
          "name": "stderr",
          "text": [
            "INFO:werkzeug:\u001b[31m\u001b[1mWARNING: This is a development server. Do not use it in a production deployment. Use a production WSGI server instead.\u001b[0m\n",
            " * Running on http://127.0.0.1:5000\n",
            "INFO:werkzeug:\u001b[33mPress CTRL+C to quit\u001b[0m\n",
            "INFO:werkzeug: * Restarting with stat\n"
          ]
        }
      ]
    }
  ]
}